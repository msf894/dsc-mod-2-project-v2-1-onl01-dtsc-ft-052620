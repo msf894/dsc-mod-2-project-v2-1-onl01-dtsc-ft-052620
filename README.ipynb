{
 "cells": [
  {
   "cell_type": "markdown",
   "metadata": {},
   "source": [
    "# Introduction:"
   ]
  },
  {
   "cell_type": "markdown",
   "metadata": {},
   "source": [
    "The process of purchasing a new home is one that takes a considerable amount of diligence. Most purchasers set out to buy a home as a way of creating a permanent residence for them and their families. As a result, buyers go through several visits and deliberations before finally being able to settle in on the home they will live in for the rest of their lives. The focus of this project is based on housing sale data based in King County, WA. In order to help first time home buyers, I set out to answer several questions in order to help buyers. In addition, I created a linear regression model in order to help determine what are the key factors in determining a house's price."
   ]
  },
  {
   "cell_type": "markdown",
   "metadata": {},
   "source": [
    "# Data Setup and Column Descriptions:"
   ]
  },
  {
   "cell_type": "markdown",
   "metadata": {},
   "source": [
    "The dataset used in this project consists of house sale data from May 2014 to May 2015 from King County, WA. It contains over 20,000 separate house sales that were made over this period of time. The data set can be found at the following link: https://www.kaggle.com/harlfoxem/housesalesprediction\n",
    "\n",
    "The dataset was presented as a csv file. Certain aspects of the data needed to be cleaned before I could analyze it any further. The following columns descriptions were used for my analysis."
   ]
  },
  {
   "cell_type": "markdown",
   "metadata": {},
   "source": [
    "## Column Names and Descriptions for Kings County Data Set\n",
    "* **id** - unique identified for a house\n",
    "* **dateDate** - house was sold\n",
    "* **pricePrice** -  is prediction target\n",
    "* **bedroomsNumber** -  of Bedrooms/House\n",
    "* **bathroomsNumber** -  of bathrooms/bedrooms\n",
    "* **sqft_livingsquare** -  footage of the home\n",
    "* **sqft_lotsquare** -  footage of the lot\n",
    "* **floorsTotal** -  floors (levels) in house\n",
    "* **waterfront** - House which has a view to a waterfront\n",
    "* **view** - Has been viewed\n",
    "* **condition** - How good the condition is ( Overall )\n",
    "* **grade** - overall grade given to the housing unit, based on King County grading system\n",
    "* **sqft_above** - square footage of house apart from basement\n",
    "* **sqft_basement** - square footage of the basement\n",
    "* **yr_built** - Built Year\n",
    "* **yr_renovated** - Year when house was renovated\n",
    "* **zipcode** - zip\n",
    "* **lat** - Latitude coordinate\n",
    "* **long** - Longitude coordinate\n",
    "* **sqft_living15** - The square footage of interior housing living space for the nearest 15 neighbors\n",
    "* **sqft_lot15** - The square footage of the land lots of the nearest 15 neighbors"
   ]
  },
  {
   "cell_type": "markdown",
   "metadata": {},
   "source": [
    "# Questions Answered:"
   ]
  },
  {
   "cell_type": "markdown",
   "metadata": {},
   "source": [
    "For my analysis, I decided to focus on various features of the homes in King County. I wanted to take a look at some of the historical house design trends I could find. These trends should, in theory, reflect the market at the time and be a reflection of what homeowners are currently desiring. Being able to indicate historical trends will allow us to predict the current market and which features are highly desirable to home buyers.The following questions were answered in this project: "
   ]
  },
  {
   "cell_type": "markdown",
   "metadata": {},
   "source": [
    "* How has the average size of a house changed over the years? How does a home's age affect its price?\n",
    "\n",
    "* How has an average home's yard space changed over the years? How much does a house’s yard space affect its price?\n",
    "\n",
    "* How have a home’s bedroom/bathroom ratio changed over the years? What effect does this ratio have on a home's price?\n"
   ]
  },
  {
   "cell_type": "markdown",
   "metadata": {},
   "source": [
    "# Question 1: House Size and Home Price Trends"
   ]
  },
  {
   "cell_type": "markdown",
   "metadata": {},
   "source": [
    "I wanted to observe how the average size of a home had changed over time. The dataset we were given goes back to the early 1900s and goes up to current times. I wanted to see if we could notice any changes in the way houses were being designed. I plotted the average living space square footage over the year a house was built for all houses. In addition, I wanted to see whether there are any notable price trends when comparing modern and historical homes."
   ]
  },
  {
   "cell_type": "markdown",
   "metadata": {
    "ExecuteTime": {
     "end_time": "2020-07-27T04:20:09.764690Z",
     "start_time": "2020-07-27T04:20:09.718839Z"
    }
   },
   "source": [
    "![Living Space Over Time](/images/LivingSpace_Over_Time.png)"
   ]
  },
  {
   "cell_type": "markdown",
   "metadata": {},
   "source": [
    "![House Prices Over Time](/images/HousePrices_Over_Time.png)"
   ]
  },
  {
   "cell_type": "markdown",
   "metadata": {},
   "source": [
    "There is a clear trend in houses becoming larger on average. After the 1940s, homes were being designed to be bigger with the highest peak so far being observed in the early 2000s.\n",
    "\n",
    "House prices on the other hand fluctuated greatly. While there has been some degree of increase in home prices, it is not as significant when compared to the living space increase. It is also interesting to note that the highest peaks were for pre-war homes as well as some modern homes. This indicates how pre-war homes are revered for their novelty and historical aspects in spite of the generally smaller sizes."
   ]
  },
  {
   "cell_type": "markdown",
   "metadata": {},
   "source": [
    "# Question 2: Yard Area"
   ]
  },
  {
   "cell_type": "markdown",
   "metadata": {},
   "source": [
    "Another aspect of a home that I wanted to evaluate was the impact of having an actual yard. Having a large yard can be desirable for certain home buyers who are looking to extend their homes as well as provide space for entertainment. I plotted the square footage of a home compared to its price as well as the average square footage of a yard compared to when a home was built."
   ]
  },
  {
   "cell_type": "markdown",
   "metadata": {
    "ExecuteTime": {
     "end_time": "2020-07-27T05:57:55.208715Z",
     "start_time": "2020-07-27T05:57:55.177808Z"
    }
   },
   "source": [
    "![YardSqft_and_Price](/images/YardSqft_and_Price.png)"
   ]
  },
  {
   "cell_type": "markdown",
   "metadata": {
    "ExecuteTime": {
     "end_time": "2020-07-27T05:58:19.866821Z",
     "start_time": "2020-07-27T05:58:19.841860Z"
    }
   },
   "source": [
    "![YardSqft_Over_Time](/images/YardSqft_Over_Time.png)"
   ]
  },
  {
   "cell_type": "markdown",
   "metadata": {},
   "source": [
    "I observed that there was a positive correlation between a yard's square footage and the overall price. A large yard, however, was not indicative of an costly house because the most expensive homes had hardly any or none at all.\n",
    "\n",
    "The average yard square footage for a home has gone down in recent years. Early homes enjoyed much more luxury when it came to space and zoning, something that is not prevalent in current times. It explains why developers are forced into building vertically."
   ]
  },
  {
   "cell_type": "markdown",
   "metadata": {},
   "source": [
    "# Question 3: Bedroom / Bathroom Ratio"
   ]
  },
  {
   "cell_type": "markdown",
   "metadata": {},
   "source": [
    "Another aspect of home design that I wanted to see whether it had changed is the ratio of bedrooms to bathrooms. As the average family size has generally gotten smaller over the years, one would think that home designers would build homes to better accommodate a smaller tight knit family. One such accommodation would be to make sure that there were enough bathrooms for the members of the family to live comfortably. I wanted to take a closer look to see how homes have changed to adapt to family needs."
   ]
  },
  {
   "cell_type": "markdown",
   "metadata": {},
   "source": [
    "![BedBathRatio_Over_Time](/images/BedBathRatio_Over_Time.png)"
   ]
  },
  {
   "cell_type": "markdown",
   "metadata": {},
   "source": [
    "![BedBathRatio_Price](/images/BedBathRatio_Price.png)"
   ]
  },
  {
   "cell_type": "markdown",
   "metadata": {},
   "source": [
    "For this purpose, having a lower bedroom/bathroom ratio is highly desirable as it allows for more family members to be accommodated at once. There is a clear decrease in this ratio after the 1960s. This can be attributed to smaller family sizes as well as larger homes being able to fit more rooms. There is also a general increase in price associated with lower ratios."
   ]
  },
  {
   "cell_type": "markdown",
   "metadata": {},
   "source": [
    "# Modeling Home Prices:"
   ]
  },
  {
   "cell_type": "markdown",
   "metadata": {},
   "source": [
    "Creating a linear regression model for the home prices went through a number of iterative processes. Multiple models were tried out and iterated upon to find out the best model for measuring home prices. Ultimately, the final model that was settled on produced a R-Squared value of 0.69, meaning that the model explains 69% of the variability of the house prices around its mean."
   ]
  },
  {
   "cell_type": "markdown",
   "metadata": {},
   "source": [
    "# Future Studies:"
   ]
  },
  {
   "cell_type": "markdown",
   "metadata": {},
   "source": [
    "In addition to the questions above, there are number of questions that came to my mind in the process of designing this project. There are many more questions home buyers have before finally closing a deal on a house. I wanted to evaluate the following questions for future studying."
   ]
  },
  {
   "cell_type": "markdown",
   "metadata": {},
   "source": [
    "* **What effect does crime and safety in a neighborhood have on a home’s price?**"
   ]
  },
  {
   "cell_type": "markdown",
   "metadata": {},
   "source": [
    "Homeowners all want to live in the safest neighborhood possible. Using crime data from the King County website, I wanted to see which zipcodes and cities had the least amount of crime and see whether that corresponds to higher house prices."
   ]
  },
  {
   "cell_type": "markdown",
   "metadata": {},
   "source": [
    "* **What other home features and designs have an impact on a house’s price?**"
   ]
  },
  {
   "cell_type": "markdown",
   "metadata": {},
   "source": [
    "Bedrooms and bathrooms are important when picking out a house but so are a number of other features that were not included in this dataset. Garages, sheds, as well as other luxurious features like pools/hot tubs are also desirable when evaluating a house."
   ]
  },
  {
   "cell_type": "markdown",
   "metadata": {},
   "source": [
    "* **How does proximity to public amenities affect a home’s price?**"
   ]
  },
  {
   "cell_type": "markdown",
   "metadata": {},
   "source": [
    "Having easy access to amenities like parks, popular restaurants, and public transportation are all desirable features when evaluating a neighborhood. I want to observe whether living close to such attractions corresponds to high home prices."
   ]
  }
 ],
 "metadata": {
  "kernelspec": {
   "display_name": "Python 3",
   "language": "python",
   "name": "python3"
  },
  "language_info": {
   "codemirror_mode": {
    "name": "ipython",
    "version": 3
   },
   "file_extension": ".py",
   "mimetype": "text/x-python",
   "name": "python",
   "nbconvert_exporter": "python",
   "pygments_lexer": "ipython3",
   "version": "3.7.6"
  },
  "toc": {
   "base_numbering": 1,
   "nav_menu": {},
   "number_sections": false,
   "sideBar": true,
   "skip_h1_title": false,
   "title_cell": "Table of Contents",
   "title_sidebar": "Contents",
   "toc_cell": false,
   "toc_position": {
    "height": "calc(100% - 180px)",
    "left": "10px",
    "top": "150px",
    "width": "165px"
   },
   "toc_section_display": true,
   "toc_window_display": true
  },
  "varInspector": {
   "cols": {
    "lenName": 16,
    "lenType": 16,
    "lenVar": 40
   },
   "kernels_config": {
    "python": {
     "delete_cmd_postfix": "",
     "delete_cmd_prefix": "del ",
     "library": "var_list.py",
     "varRefreshCmd": "print(var_dic_list())"
    },
    "r": {
     "delete_cmd_postfix": ") ",
     "delete_cmd_prefix": "rm(",
     "library": "var_list.r",
     "varRefreshCmd": "cat(var_dic_list()) "
    }
   },
   "types_to_exclude": [
    "module",
    "function",
    "builtin_function_or_method",
    "instance",
    "_Feature"
   ],
   "window_display": false
  }
 },
 "nbformat": 4,
 "nbformat_minor": 4
}
